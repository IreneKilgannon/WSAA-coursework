{
 "cells": [
  {
   "cell_type": "markdown",
   "metadata": {},
   "source": [
    "# Assignment 2: Card Draw\n",
    "\n",
    "![Assignment 2 Image of Five Playing Cards](img/Card_Draw.png)\n",
    "\n",
    "Author: Irene Kilgannon\n",
    "\n",
    "Write a program that 'deals' i.e. prints out 5 cards from this API, https://deckofcardsapi.com/.\n",
    "\n",
    "First shuffle the deck and get the deck_id. With the deck_id, get the cards. Print the value and suit of each card.\n",
    "\n",
    "Extra marks: If the user has drawn a pair, triple, straight, or all of the same suit and congratulate the user."
   ]
  },
  {
   "cell_type": "code",
   "execution_count": null,
   "metadata": {},
   "outputs": [],
   "source": [
    "# Import modules\n",
    "import requests\n",
    "import json\n",
    "import pandas as pd\n",
    "from emoji import emojize"
   ]
  },
  {
   "cell_type": "markdown",
   "metadata": {},
   "source": [
    "## Shuffle The 'Cards'"
   ]
  },
  {
   "cell_type": "code",
   "execution_count": 181,
   "metadata": {},
   "outputs": [
    {
     "name": "stdout",
     "output_type": "stream",
     "text": [
      "Deck ID: l6ywi8kdont5\n"
     ]
    }
   ],
   "source": [
    "shuffle_cards_url = \"https://deckofcardsapi.com/api/deck/new/shuffle/?deck_count=1\"\n",
    "\n",
    "# Get data from the API\n",
    "response = requests.get(shuffle_cards_url)\n",
    "\n",
    "# Convert JSON response to Python dictionary\n",
    "response_dict = response.json()\n",
    "\n",
    "# View keys in response_dict\n",
    "#for key in response_dict:\n",
    "#    print(key, \":\", response_dict[key])\n",
    "\n",
    "print('Deck ID:', response_dict['deck_id'])"
   ]
  },
  {
   "cell_type": "code",
   "execution_count": 182,
   "metadata": {},
   "outputs": [],
   "source": [
    "# Create a variable of the deck_id\n",
    "deck_id =  response_dict['deck_id']"
   ]
  },
  {
   "cell_type": "markdown",
   "metadata": {},
   "source": [
    "## Deal Five Cards"
   ]
  },
  {
   "cell_type": "code",
   "execution_count": 183,
   "metadata": {},
   "outputs": [
    {
     "name": "stdout",
     "output_type": "stream",
     "text": [
      "5 of DIAMONDS\n",
      "10 of CLUBS\n",
      "7 of DIAMONDS\n",
      "7 of SPADES\n",
      "6 of CLUBS\n"
     ]
    }
   ],
   "source": [
    "deal_cards_url = f\"https://deckofcardsapi.com/api/deck/{deck_id}/draw/?count=5\"\n",
    "\n",
    "# Get data from the API\n",
    "response2 = requests.get(deal_cards_url)\n",
    "\n",
    "# Convert JSON response to Python dictionary\n",
    "deal_cards = response2.json()\n",
    "\n",
    "add_card = []\n",
    "\n",
    "for card in deal_cards['cards']:\n",
    "    add_card.append(card['value'])\n",
    "    print(f\"{card['value']} of {card['suit']}\")"
   ]
  },
  {
   "cell_type": "code",
   "execution_count": 184,
   "metadata": {},
   "outputs": [
    {
     "data": {
      "text/plain": [
       "['5', '10', '7', '7', '6']"
      ]
     },
     "execution_count": 184,
     "metadata": {},
     "output_type": "execute_result"
    }
   ],
   "source": [
    "add_card"
   ]
  },
  {
   "cell_type": "code",
   "execution_count": 185,
   "metadata": {},
   "outputs": [],
   "source": [
    "# Write data to a JSON file\n",
    "with open (\"data/deal_cards.json\", \"w\") as fp:\n",
    "    json.dump(deal_cards, fp)"
   ]
  },
  {
   "cell_type": "markdown",
   "metadata": {},
   "source": [
    "## Extra Marks\n",
    "\n",
    "Extra marks: If the user has drawn a pair, triple, straight, or all of the same suit and congratulate the user.\n",
    "\n",
    "Pair or triple - two or three cards of same value.\n",
    "\n",
    "Straight - five cards of sequential rank, not all the same suit.\n",
    "\n",
    "Suit - all cards in came suit."
   ]
  },
  {
   "cell_type": "code",
   "execution_count": 186,
   "metadata": {},
   "outputs": [
    {
     "data": {
      "text/html": [
       "<div>\n",
       "<style scoped>\n",
       "    .dataframe tbody tr th:only-of-type {\n",
       "        vertical-align: middle;\n",
       "    }\n",
       "\n",
       "    .dataframe tbody tr th {\n",
       "        vertical-align: top;\n",
       "    }\n",
       "\n",
       "    .dataframe thead th {\n",
       "        text-align: right;\n",
       "    }\n",
       "</style>\n",
       "<table border=\"1\" class=\"dataframe\">\n",
       "  <thead>\n",
       "    <tr style=\"text-align: right;\">\n",
       "      <th></th>\n",
       "      <th>value</th>\n",
       "      <th>suit</th>\n",
       "    </tr>\n",
       "  </thead>\n",
       "  <tbody>\n",
       "    <tr>\n",
       "      <th>0</th>\n",
       "      <td>5</td>\n",
       "      <td>DIAMONDS</td>\n",
       "    </tr>\n",
       "    <tr>\n",
       "      <th>1</th>\n",
       "      <td>10</td>\n",
       "      <td>CLUBS</td>\n",
       "    </tr>\n",
       "    <tr>\n",
       "      <th>2</th>\n",
       "      <td>7</td>\n",
       "      <td>DIAMONDS</td>\n",
       "    </tr>\n",
       "    <tr>\n",
       "      <th>3</th>\n",
       "      <td>7</td>\n",
       "      <td>SPADES</td>\n",
       "    </tr>\n",
       "    <tr>\n",
       "      <th>4</th>\n",
       "      <td>6</td>\n",
       "      <td>CLUBS</td>\n",
       "    </tr>\n",
       "  </tbody>\n",
       "</table>\n",
       "</div>"
      ],
      "text/plain": [
       "  value      suit\n",
       "0     5  DIAMONDS\n",
       "1    10     CLUBS\n",
       "2     7  DIAMONDS\n",
       "3     7    SPADES\n",
       "4     6     CLUBS"
      ]
     },
     "execution_count": 186,
     "metadata": {},
     "output_type": "execute_result"
    }
   ],
   "source": [
    "# Convert to a DataFrame\n",
    "df = pd.DataFrame(deal_cards['cards'], columns= ['value', 'suit'])\n",
    "df"
   ]
  },
  {
   "cell_type": "code",
   "execution_count": 187,
   "metadata": {},
   "outputs": [
    {
     "name": "stdout",
     "output_type": "stream",
     "text": [
      "There are 1 duplicated rows in the value column.\n"
     ]
    }
   ],
   "source": [
    "print(f'There are {df['value'].duplicated().sum()} duplicated rows in the value column.')"
   ]
  },
  {
   "cell_type": "code",
   "execution_count": 188,
   "metadata": {},
   "outputs": [
    {
     "data": {
      "text/html": [
       "<div>\n",
       "<style scoped>\n",
       "    .dataframe tbody tr th:only-of-type {\n",
       "        vertical-align: middle;\n",
       "    }\n",
       "\n",
       "    .dataframe tbody tr th {\n",
       "        vertical-align: top;\n",
       "    }\n",
       "\n",
       "    .dataframe thead th {\n",
       "        text-align: right;\n",
       "    }\n",
       "</style>\n",
       "<table border=\"1\" class=\"dataframe\">\n",
       "  <thead>\n",
       "    <tr style=\"text-align: right;\">\n",
       "      <th></th>\n",
       "      <th>value</th>\n",
       "      <th>suit</th>\n",
       "    </tr>\n",
       "  </thead>\n",
       "  <tbody>\n",
       "    <tr>\n",
       "      <th>2</th>\n",
       "      <td>7</td>\n",
       "      <td>DIAMONDS</td>\n",
       "    </tr>\n",
       "    <tr>\n",
       "      <th>3</th>\n",
       "      <td>7</td>\n",
       "      <td>SPADES</td>\n",
       "    </tr>\n",
       "  </tbody>\n",
       "</table>\n",
       "</div>"
      ],
      "text/plain": [
       "  value      suit\n",
       "2     7  DIAMONDS\n",
       "3     7    SPADES"
      ]
     },
     "execution_count": 188,
     "metadata": {},
     "output_type": "execute_result"
    }
   ],
   "source": [
    "# View the duplicated rows.\n",
    "df2 = df[df['value'].duplicated(keep = False)]\n",
    "df2"
   ]
  },
  {
   "cell_type": "code",
   "execution_count": 189,
   "metadata": {},
   "outputs": [
    {
     "name": "stdout",
     "output_type": "stream",
     "text": [
      "🥳 Congratulations!!! You have a pair of 7's.\n"
     ]
    }
   ],
   "source": [
    "# Checking for pairs or triples.\n",
    "if df['value'].duplicated().sum() == 1:\n",
    "    print(f\"{emojize(\":partying_face:\")} Congratulations!!! You have a pair of {df2.iloc[0, 0]}'s.\")\n",
    "elif df['value'].duplicated().sum() == 2:\n",
    "    if len(df2) == 2:\n",
    "        print(f\"{emojize(\":party_popper:\")} Congratulations!!! You have a triple of {df2.iloc[0, 0]}'s.\")\n",
    "    else:\n",
    "        print(f\"{emojize(\":party_popper:\")} WOW! Congratulations!! You have a two pairs {df2.iloc[0, 0]} and {df2.iloc[0, 2]}.\")\n",
    "else:\n",
    "    print(f'{emojize(\":disappointed_face:\")} Unlucky, no pairs or triples. Better luck next time.')"
   ]
  },
  {
   "cell_type": "code",
   "execution_count": 190,
   "metadata": {},
   "outputs": [],
   "source": [
    "if df['suit'].duplicated().sum() == 4:\n",
    "    print(f'{emojize(\":fireworks:\")} All cards have the same suit. Congratulations! {emojize(\":fireworks:\")}')"
   ]
  },
  {
   "cell_type": "code",
   "execution_count": 191,
   "metadata": {},
   "outputs": [],
   "source": [
    "# For straight need list of card values\n",
    "card_values = ['ACE', '2', '3', '4', '5', '6', '7', '8', '9', '10', 'JACK', 'QUEEN', 'KING']\n",
    "\n",
    "#for card in card_values:\n",
    "    #print(card)    "
   ]
  },
  {
   "cell_type": "code",
   "execution_count": 192,
   "metadata": {},
   "outputs": [
    {
     "data": {
      "text/html": [
       "<div>\n",
       "<style scoped>\n",
       "    .dataframe tbody tr th:only-of-type {\n",
       "        vertical-align: middle;\n",
       "    }\n",
       "\n",
       "    .dataframe tbody tr th {\n",
       "        vertical-align: top;\n",
       "    }\n",
       "\n",
       "    .dataframe thead th {\n",
       "        text-align: right;\n",
       "    }\n",
       "</style>\n",
       "<table border=\"1\" class=\"dataframe\">\n",
       "  <thead>\n",
       "    <tr style=\"text-align: right;\">\n",
       "      <th></th>\n",
       "      <th>value</th>\n",
       "      <th>suit</th>\n",
       "    </tr>\n",
       "  </thead>\n",
       "  <tbody>\n",
       "    <tr>\n",
       "      <th>0</th>\n",
       "      <td>5</td>\n",
       "      <td>DIAMONDS</td>\n",
       "    </tr>\n",
       "    <tr>\n",
       "      <th>4</th>\n",
       "      <td>6</td>\n",
       "      <td>CLUBS</td>\n",
       "    </tr>\n",
       "    <tr>\n",
       "      <th>2</th>\n",
       "      <td>7</td>\n",
       "      <td>DIAMONDS</td>\n",
       "    </tr>\n",
       "    <tr>\n",
       "      <th>3</th>\n",
       "      <td>7</td>\n",
       "      <td>SPADES</td>\n",
       "    </tr>\n",
       "    <tr>\n",
       "      <th>1</th>\n",
       "      <td>10</td>\n",
       "      <td>CLUBS</td>\n",
       "    </tr>\n",
       "  </tbody>\n",
       "</table>\n",
       "</div>"
      ],
      "text/plain": [
       "  value      suit\n",
       "0     5  DIAMONDS\n",
       "4     6     CLUBS\n",
       "2     7  DIAMONDS\n",
       "3     7    SPADES\n",
       "1    10     CLUBS"
      ]
     },
     "execution_count": 192,
     "metadata": {},
     "output_type": "execute_result"
    }
   ],
   "source": [
    "# Sort value column in a specific order, https://stackoverflow.com/questions/52784410/sort-column-in-pandas-dataframe-by-specific-order\n",
    "df.value = pd.Categorical(df.value, categories= card_values)\n",
    "\n",
    "df = df.sort_values(by ='value')\n",
    "df"
   ]
  },
  {
   "cell_type": "markdown",
   "metadata": {},
   "source": [
    "\n",
    "Figure out how do I match a straight. "
   ]
  },
  {
   "cell_type": "markdown",
   "metadata": {},
   "source": [
    "## References\n",
    "\n",
    "[Geeksforgeeks.org, response.json() - Python requests](https://www.geeksforgeeks.org/response-json-python-requests/)\n",
    "\n",
    "[W3 schools.com, Python Requests Module](https://www.w3schools.com/python/module_requests.asp)\n",
    "\n",
    "[Realpython.com, Python's Requests Library (Guide)](https://realpython.com/python-requests/)\n",
    "\n",
    "[Stackoverflow.com, How to access a dictionary key value present inside a list](https://stackoverflow.com/questions/6521892/how-to-access-a-dictionary-key-value-present-inside-a-list)\n",
    "\n",
    "[Geeksforgeeks.org, Accessing nested dictionaries in a list](https://www.geeksforgeeks.org/accessing-value-inside-python-nested-dictionaries/) \n",
    "\n",
    "[Datacamp.com, importing json data and working with APIs](https://campus.datacamp.com/courses/streamlined-data-ingestion-with-pandas/importing-json-data-and-working-with-apis?ex=4)"
   ]
  }
 ],
 "metadata": {
  "kernelspec": {
   "display_name": "base",
   "language": "python",
   "name": "python3"
  },
  "language_info": {
   "codemirror_mode": {
    "name": "ipython",
    "version": 3
   },
   "file_extension": ".py",
   "mimetype": "text/x-python",
   "name": "python",
   "nbconvert_exporter": "python",
   "pygments_lexer": "ipython3",
   "version": "3.12.7"
  }
 },
 "nbformat": 4,
 "nbformat_minor": 2
}
