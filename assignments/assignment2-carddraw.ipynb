{
 "cells": [
  {
   "cell_type": "markdown",
   "metadata": {},
   "source": [
    "# Assignment 2: Card Draw\n",
    "\n",
    "![Assignment 2 Image of Five Playing Cards](img/Card_Draw.png)\n",
    "\n",
    "Author: Irene Kilgannon\n",
    "\n",
    "Student ID: G00220627\n",
    "\n",
    "## Task\n",
    "\n",
    "Write a program that 'deals' i.e. prints out 5 cards from this API, https://deckofcardsapi.com/.\n",
    "\n",
    "First shuffle the deck and get the deck_id. With the deck_id, get the cards. Print the value and suit of each card.\n",
    "\n",
    "Extra marks: If the user has drawn a pair, triple, straight, or all of the same suit and congratulate the user."
   ]
  },
  {
   "cell_type": "code",
   "execution_count": 282,
   "metadata": {},
   "outputs": [],
   "source": [
    "# Import modules\n",
    "import requests\n",
    "import json\n",
    "import pandas as pd\n",
    "from emoji import emojize"
   ]
  },
  {
   "cell_type": "markdown",
   "metadata": {},
   "source": [
    "## Shuffle The 'Cards'"
   ]
  },
  {
   "cell_type": "code",
   "execution_count": 283,
   "metadata": {},
   "outputs": [
    {
     "name": "stdout",
     "output_type": "stream",
     "text": [
      "Deck ID: 51byv8estq0r\n"
     ]
    }
   ],
   "source": [
    "shuffle_cards_url = \"https://deckofcardsapi.com/api/deck/new/shuffle/?deck_count=1\"\n",
    "\n",
    "# Get data from the API\n",
    "response = requests.get(shuffle_cards_url)\n",
    "\n",
    "# Convert JSON response to Python dictionary\n",
    "response_dict = response.json()\n",
    "\n",
    "print('Deck ID:', response_dict['deck_id'])"
   ]
  },
  {
   "cell_type": "code",
   "execution_count": 284,
   "metadata": {},
   "outputs": [],
   "source": [
    "# Create a variable of the deck_id\n",
    "deck_id =  response_dict['deck_id']"
   ]
  },
  {
   "cell_type": "markdown",
   "metadata": {},
   "source": [
    "## Deal Five Cards"
   ]
  },
  {
   "cell_type": "markdown",
   "metadata": {},
   "source": [
    "According to the API, this URL, https://deckofcardsapi.com/api/deck/{deck_id}/draw/?count=5  will deal five cards using the deck_id with the parameter of count equal to five."
   ]
  },
  {
   "cell_type": "code",
   "execution_count": 285,
   "metadata": {},
   "outputs": [
    {
     "name": "stdout",
     "output_type": "stream",
     "text": [
      "7 of SPADES\n",
      "KING of HEARTS\n",
      "7 of CLUBS\n",
      "3 of HEARTS\n",
      "KING of SPADES\n"
     ]
    }
   ],
   "source": [
    "deal_cards_url = f\"https://deckofcardsapi.com/api/deck/{deck_id}/draw/?count=5\"\n",
    "\n",
    "# Get data from the deal_cards_URL\n",
    "response2 = requests.get(deal_cards_url)\n",
    "\n",
    "# Convert JSON response to Python dictionary\n",
    "deal_cards = response2.json()\n",
    "\n",
    "# Print the value and suit of each card\n",
    "for card in deal_cards['cards']:\n",
    "    print(f\"{card['value']} of {card['suit']}\")"
   ]
  },
  {
   "cell_type": "code",
   "execution_count": 286,
   "metadata": {},
   "outputs": [],
   "source": [
    "# Write data to a JSON file\n",
    "with open (\"data/deal_cards.json\", \"w\") as fp:\n",
    "    json.dump(deal_cards, fp)"
   ]
  },
  {
   "cell_type": "markdown",
   "metadata": {},
   "source": [
    "## Extra Marks\n",
    "\n",
    "If the user has drawn a pair, triple, straight, or all cards of the same suit and congratulate the user."
   ]
  },
  {
   "cell_type": "code",
   "execution_count": 287,
   "metadata": {},
   "outputs": [
    {
     "data": {
      "text/html": [
       "<div>\n",
       "<style scoped>\n",
       "    .dataframe tbody tr th:only-of-type {\n",
       "        vertical-align: middle;\n",
       "    }\n",
       "\n",
       "    .dataframe tbody tr th {\n",
       "        vertical-align: top;\n",
       "    }\n",
       "\n",
       "    .dataframe thead th {\n",
       "        text-align: right;\n",
       "    }\n",
       "</style>\n",
       "<table border=\"1\" class=\"dataframe\">\n",
       "  <thead>\n",
       "    <tr style=\"text-align: right;\">\n",
       "      <th></th>\n",
       "      <th>value</th>\n",
       "      <th>suit</th>\n",
       "    </tr>\n",
       "  </thead>\n",
       "  <tbody>\n",
       "    <tr>\n",
       "      <th>0</th>\n",
       "      <td>7</td>\n",
       "      <td>SPADES</td>\n",
       "    </tr>\n",
       "    <tr>\n",
       "      <th>1</th>\n",
       "      <td>KING</td>\n",
       "      <td>HEARTS</td>\n",
       "    </tr>\n",
       "    <tr>\n",
       "      <th>2</th>\n",
       "      <td>7</td>\n",
       "      <td>CLUBS</td>\n",
       "    </tr>\n",
       "    <tr>\n",
       "      <th>3</th>\n",
       "      <td>3</td>\n",
       "      <td>HEARTS</td>\n",
       "    </tr>\n",
       "    <tr>\n",
       "      <th>4</th>\n",
       "      <td>KING</td>\n",
       "      <td>SPADES</td>\n",
       "    </tr>\n",
       "  </tbody>\n",
       "</table>\n",
       "</div>"
      ],
      "text/plain": [
       "  value    suit\n",
       "0     7  SPADES\n",
       "1  KING  HEARTS\n",
       "2     7   CLUBS\n",
       "3     3  HEARTS\n",
       "4  KING  SPADES"
      ]
     },
     "execution_count": 287,
     "metadata": {},
     "output_type": "execute_result"
    }
   ],
   "source": [
    "# Convert to a DataFrame\n",
    "df = pd.DataFrame(deal_cards['cards'], columns= ['value', 'suit'])\n",
    "df"
   ]
  },
  {
   "cell_type": "markdown",
   "metadata": {},
   "source": [
    "### Checking For a Pair Or Triple."
   ]
  },
  {
   "cell_type": "code",
   "execution_count": 288,
   "metadata": {},
   "outputs": [
    {
     "name": "stdout",
     "output_type": "stream",
     "text": [
      "No. of duplicated card values: 2\n"
     ]
    }
   ],
   "source": [
    "# Count the number of duplicate rows in the value column.\n",
    "no_of_duplicated_values = df['value'].duplicated().sum()\n",
    "print(f'No. of duplicated card values: {no_of_duplicated_values}')"
   ]
  },
  {
   "cell_type": "code",
   "execution_count": 301,
   "metadata": {},
   "outputs": [
    {
     "data": {
      "text/html": [
       "<div>\n",
       "<style scoped>\n",
       "    .dataframe tbody tr th:only-of-type {\n",
       "        vertical-align: middle;\n",
       "    }\n",
       "\n",
       "    .dataframe tbody tr th {\n",
       "        vertical-align: top;\n",
       "    }\n",
       "\n",
       "    .dataframe thead th {\n",
       "        text-align: right;\n",
       "    }\n",
       "</style>\n",
       "<table border=\"1\" class=\"dataframe\">\n",
       "  <thead>\n",
       "    <tr style=\"text-align: right;\">\n",
       "      <th></th>\n",
       "      <th>value</th>\n",
       "      <th>suit</th>\n",
       "    </tr>\n",
       "  </thead>\n",
       "  <tbody>\n",
       "    <tr>\n",
       "      <th>0</th>\n",
       "      <td>7</td>\n",
       "      <td>SPADES</td>\n",
       "    </tr>\n",
       "    <tr>\n",
       "      <th>2</th>\n",
       "      <td>7</td>\n",
       "      <td>CLUBS</td>\n",
       "    </tr>\n",
       "    <tr>\n",
       "      <th>1</th>\n",
       "      <td>KING</td>\n",
       "      <td>HEARTS</td>\n",
       "    </tr>\n",
       "    <tr>\n",
       "      <th>4</th>\n",
       "      <td>KING</td>\n",
       "      <td>SPADES</td>\n",
       "    </tr>\n",
       "  </tbody>\n",
       "</table>\n",
       "</div>"
      ],
      "text/plain": [
       "  value    suit\n",
       "0     7  SPADES\n",
       "2     7   CLUBS\n",
       "1  KING  HEARTS\n",
       "4  KING  SPADES"
      ]
     },
     "execution_count": 301,
     "metadata": {},
     "output_type": "execute_result"
    }
   ],
   "source": [
    "# Create a dataframe of the duplicated rows.\n",
    "df2 = df[df['value'].duplicated(keep = False)].sort_values(by='value')\n",
    "df2"
   ]
  },
  {
   "cell_type": "markdown",
   "metadata": {},
   "source": [
    "By creating a separate dataframe of the duplicate rows, I can distinguish between a pair, a pair of pairs or a triple by the length of the dateframe and also return the value of the cards. "
   ]
  },
  {
   "cell_type": "code",
   "execution_count": 302,
   "metadata": {},
   "outputs": [
    {
     "name": "stdout",
     "output_type": "stream",
     "text": [
      "🎉 WOW! Congratulations!! You have a two pairs of 7 and KING.\n"
     ]
    }
   ],
   "source": [
    "# Check for a pair.\n",
    "if no_of_duplicated_values == 1:\n",
    "    print(f\"{emojize(\":partying_face:\")} Congratulations!!! You have a pair of {df2.iloc[0, 0]}'s.\")\n",
    "\n",
    "# Check for 2 pairs or a triple.\n",
    "elif no_of_duplicated_values == 2:\n",
    "    # Check for a triple\n",
    "    if len(df2) == 3:\n",
    "        print(f\"{emojize(\":party_popper:\")} Congratulations!!! You have a triple of {df2.iloc[0, 0]}'s.\")\n",
    "    # Check for 2 pairs\n",
    "    else:\n",
    "        print(f\"{emojize(\":party_popper:\")} WOW! Congratulations!! You have a two pairs of {df2.iloc[0, 0]} and {df2.iloc[2, 0]}.\")\n",
    "else:\n",
    "    print(f'{emojize(\":disappointed_face:\")} Unlucky, no pairs or triples. Better luck next time.')"
   ]
  },
  {
   "cell_type": "markdown",
   "metadata": {},
   "source": [
    "### Checking for Matching Suit."
   ]
  },
  {
   "cell_type": "code",
   "execution_count": 291,
   "metadata": {},
   "outputs": [
    {
     "name": "stdout",
     "output_type": "stream",
     "text": [
      "The cards are not all of the same suit.\n"
     ]
    }
   ],
   "source": [
    "# Check if all cards have the same suit.\n",
    "if df['suit'].duplicated().sum() == 4:\n",
    "    print(f'{emojize(\":fireworks:\")} All cards have the same suit. Congratulations! {emojize(\":fireworks:\")}')\n",
    "else:\n",
    "    print(\"The cards are not all of the same suit.\")"
   ]
  },
  {
   "cell_type": "markdown",
   "metadata": {},
   "source": [
    "### Checking for a Straight."
   ]
  },
  {
   "cell_type": "code",
   "execution_count": 292,
   "metadata": {},
   "outputs": [],
   "source": [
    "# For straight, need an ordered list of card values. \n",
    "# Ace has a value of 1 and 11. \n",
    "card_value_order = ['2', '3', '4', '5', '6', '7', '8', '9', '10', 'JACK', 'QUEEN', 'KING', 'ACE', '2', '3', '4']"
   ]
  },
  {
   "cell_type": "code",
   "execution_count": 293,
   "metadata": {},
   "outputs": [
    {
     "data": {
      "text/plain": [
       "['7', 'KING', '7', '3', 'KING']"
      ]
     },
     "execution_count": 293,
     "metadata": {},
     "output_type": "execute_result"
    }
   ],
   "source": [
    "# Create a list of the card values from the dataframe.\n",
    "values = df.iloc[:5, 0].tolist()\n",
    "values"
   ]
  },
  {
   "cell_type": "code",
   "execution_count": 294,
   "metadata": {},
   "outputs": [
    {
     "data": {
      "text/plain": [
       "['3', '7', '7', 'KING', 'KING']"
      ]
     },
     "execution_count": 294,
     "metadata": {},
     "output_type": "execute_result"
    }
   ],
   "source": [
    "# Sort the values list by the card_value_order list\n",
    "# https://stackoverflow.com/questions/34308635/sort-elements-with-specific-order-in-python (Clickable link in References)\n",
    "values = (sorted(values, key = card_value_order.index))\n",
    "values"
   ]
  },
  {
   "cell_type": "code",
   "execution_count": 295,
   "metadata": {},
   "outputs": [
    {
     "name": "stdout",
     "output_type": "stream",
     "text": [
      "😞 No straight found.\n"
     ]
    }
   ],
   "source": [
    "# Check for the presence of the values list in card_values.\n",
    "# https://stackoverflow.com/questions/3313590/check-for-presence-of-a-sliced-list-in-python (Clickable link in References)\n",
    "\n",
    "n = len(values)\n",
    "\n",
    "if any((values == card_value_order[i:i+n]) for i in range(len(card_value_order) - n + 1)):\n",
    "    print(f\"{emojize(\":partying_face:\")} You have a straight.\")\n",
    "else:\n",
    "    print(f\"{emojize(\":disappointed_face:\")} No straight found.\")"
   ]
  },
  {
   "cell_type": "markdown",
   "metadata": {},
   "source": [
    "## References\n",
    "\n",
    "[Geeksforgeeks.org, response.json() - Python requests](https://www.geeksforgeeks.org/response-json-python-requests/)\n",
    "\n",
    "[W3 schools.com, Python Requests Module](https://www.w3schools.com/python/module_requests.asp)\n",
    "\n",
    "[Realpython.com, Python's Requests Library (Guide)](https://realpython.com/python-requests/)\n",
    "\n",
    "[Stackoverflow.com, How to access a dictionary key value present inside a list](https://stackoverflow.com/questions/6521892/how-to-access-a-dictionary-key-value-present-inside-a-list)\n",
    "\n",
    "[Geeksforgeeks.org, Accessing nested dictionaries in a list](https://www.geeksforgeeks.org/accessing-value-inside-python-nested-dictionaries/) \n",
    "\n",
    "[Datacamp.com, importing json data and working with APIs](https://campus.datacamp.com/courses/streamlined-data-ingestion-with-pandas/importing-json-data-and-working-with-apis?ex=4)\n",
    "\n",
    "[Get a list from a dataframe](https://saturncloud.io/blog/how-to-get-a-list-from-a-pandas-dataframe-column)\n",
    "\n",
    "[Stackoverflow, Sort elements with specific order in Python](https://stackoverflow.com/questions/34308635/sort-elements-with-specific-order-in-python)\n",
    "\n",
    "[Stackoverflow, Check for presence of a sliced list in Python](https://stackoverflow.com/questions/3313590/check-for-presence-of-a-sliced-list-in-python)"
   ]
  }
 ],
 "metadata": {
  "kernelspec": {
   "display_name": "base",
   "language": "python",
   "name": "python3"
  },
  "language_info": {
   "codemirror_mode": {
    "name": "ipython",
    "version": 3
   },
   "file_extension": ".py",
   "mimetype": "text/x-python",
   "name": "python",
   "nbconvert_exporter": "python",
   "pygments_lexer": "ipython3",
   "version": "3.12.7"
  }
 },
 "nbformat": 4,
 "nbformat_minor": 2
}
