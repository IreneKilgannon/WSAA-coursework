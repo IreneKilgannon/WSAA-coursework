{
 "cells": [
  {
   "cell_type": "markdown",
   "metadata": {},
   "source": [
    "# Assignment 2: Card Draw\n",
    "\n",
    "![Assignment 2 Image of Five Playing Cards](img/Card_Draw.png)\n",
    "\n",
    "Author: Irene Kilgannon\n",
    "\n",
    "Write a program that 'deals' i.e. prints out 5 cards from this API, https://deckofcardsapi.com/.\n",
    "\n",
    "First shuffle the deck and get the deck_id. With the deck_id, get the cards. Print the value and suit of each card.\n",
    "\n",
    "Extra marks: If the user has drawn a pair, triple, straight, or all of the same suit and congratulate the user."
   ]
  },
  {
   "cell_type": "code",
   "execution_count": 294,
   "metadata": {},
   "outputs": [],
   "source": [
    "# Import modules\n",
    "import requests\n",
    "import json\n",
    "import pandas as pd\n",
    "from emoji import emojize"
   ]
  },
  {
   "cell_type": "markdown",
   "metadata": {},
   "source": [
    "## Shuffle The 'Cards'"
   ]
  },
  {
   "cell_type": "code",
   "execution_count": 295,
   "metadata": {},
   "outputs": [
    {
     "name": "stdout",
     "output_type": "stream",
     "text": [
      "Deck ID: px544sabdn9j\n"
     ]
    }
   ],
   "source": [
    "shuffle_cards_url = \"https://deckofcardsapi.com/api/deck/new/shuffle/?deck_count=1\"\n",
    "\n",
    "# Get data from the API\n",
    "response = requests.get(shuffle_cards_url)\n",
    "\n",
    "# Convert JSON response to Python dictionary\n",
    "response_dict = response.json()\n",
    "\n",
    "print('Deck ID:', response_dict['deck_id'])"
   ]
  },
  {
   "cell_type": "code",
   "execution_count": 296,
   "metadata": {},
   "outputs": [],
   "source": [
    "# Create a variable of the deck_id\n",
    "deck_id =  response_dict['deck_id']"
   ]
  },
  {
   "cell_type": "markdown",
   "metadata": {},
   "source": [
    "## Deal Five Cards"
   ]
  },
  {
   "cell_type": "code",
   "execution_count": 297,
   "metadata": {},
   "outputs": [
    {
     "name": "stdout",
     "output_type": "stream",
     "text": [
      "ACE of HEARTS\n",
      "QUEEN of HEARTS\n",
      "KING of DIAMONDS\n",
      "ACE of CLUBS\n",
      "6 of DIAMONDS\n"
     ]
    }
   ],
   "source": [
    "deal_cards_url = f\"https://deckofcardsapi.com/api/deck/{deck_id}/draw/?count=5\"\n",
    "\n",
    "# Get data from the deal_cards_URL\n",
    "response2 = requests.get(deal_cards_url)\n",
    "\n",
    "# Convert JSON response to Python dictionary\n",
    "deal_cards = response2.json()\n",
    "\n",
    "# Print the value and suit of each card\n",
    "for card in deal_cards['cards']:\n",
    "    print(f\"{card['value']} of {card['suit']}\")"
   ]
  },
  {
   "cell_type": "code",
   "execution_count": 298,
   "metadata": {},
   "outputs": [],
   "source": [
    "# Write data to a JSON file\n",
    "with open (\"data/deal_cards.json\", \"w\") as fp:\n",
    "    json.dump(deal_cards, fp)"
   ]
  },
  {
   "cell_type": "markdown",
   "metadata": {},
   "source": [
    "## Extra Marks\n",
    "\n",
    "If the user has drawn a pair, triple, straight, or all cards of the same suit and congratulate the user."
   ]
  },
  {
   "cell_type": "code",
   "execution_count": 299,
   "metadata": {},
   "outputs": [
    {
     "data": {
      "text/html": [
       "<div>\n",
       "<style scoped>\n",
       "    .dataframe tbody tr th:only-of-type {\n",
       "        vertical-align: middle;\n",
       "    }\n",
       "\n",
       "    .dataframe tbody tr th {\n",
       "        vertical-align: top;\n",
       "    }\n",
       "\n",
       "    .dataframe thead th {\n",
       "        text-align: right;\n",
       "    }\n",
       "</style>\n",
       "<table border=\"1\" class=\"dataframe\">\n",
       "  <thead>\n",
       "    <tr style=\"text-align: right;\">\n",
       "      <th></th>\n",
       "      <th>value</th>\n",
       "      <th>suit</th>\n",
       "    </tr>\n",
       "  </thead>\n",
       "  <tbody>\n",
       "    <tr>\n",
       "      <th>0</th>\n",
       "      <td>ACE</td>\n",
       "      <td>HEARTS</td>\n",
       "    </tr>\n",
       "    <tr>\n",
       "      <th>1</th>\n",
       "      <td>QUEEN</td>\n",
       "      <td>HEARTS</td>\n",
       "    </tr>\n",
       "    <tr>\n",
       "      <th>2</th>\n",
       "      <td>KING</td>\n",
       "      <td>DIAMONDS</td>\n",
       "    </tr>\n",
       "    <tr>\n",
       "      <th>3</th>\n",
       "      <td>ACE</td>\n",
       "      <td>CLUBS</td>\n",
       "    </tr>\n",
       "    <tr>\n",
       "      <th>4</th>\n",
       "      <td>6</td>\n",
       "      <td>DIAMONDS</td>\n",
       "    </tr>\n",
       "  </tbody>\n",
       "</table>\n",
       "</div>"
      ],
      "text/plain": [
       "   value      suit\n",
       "0    ACE    HEARTS\n",
       "1  QUEEN    HEARTS\n",
       "2   KING  DIAMONDS\n",
       "3    ACE     CLUBS\n",
       "4      6  DIAMONDS"
      ]
     },
     "execution_count": 299,
     "metadata": {},
     "output_type": "execute_result"
    }
   ],
   "source": [
    "# Convert to a DataFrame\n",
    "df = pd.DataFrame(deal_cards['cards'], columns= ['value', 'suit'])\n",
    "df"
   ]
  },
  {
   "cell_type": "markdown",
   "metadata": {},
   "source": [
    "### Checking For a Pair Or Triple."
   ]
  },
  {
   "cell_type": "code",
   "execution_count": 300,
   "metadata": {},
   "outputs": [
    {
     "name": "stdout",
     "output_type": "stream",
     "text": [
      "No. of duplicated card values: 1\n"
     ]
    }
   ],
   "source": [
    "# Count the number of duplicate rows in the value column.\n",
    "no_of_duplicated_values = df['value'].duplicated().sum()\n",
    "print(f'No. of duplicated card values: {no_of_duplicated_values}')"
   ]
  },
  {
   "cell_type": "code",
   "execution_count": 301,
   "metadata": {},
   "outputs": [],
   "source": [
    "# Create a dataframe of the duplicated rows. \n",
    "df2 = df[df['value'].duplicated(keep = False)]"
   ]
  },
  {
   "cell_type": "code",
   "execution_count": 302,
   "metadata": {},
   "outputs": [
    {
     "name": "stdout",
     "output_type": "stream",
     "text": [
      "🥳 Congratulations!!! You have a pair of ACE's.\n"
     ]
    }
   ],
   "source": [
    "# Check for a pair.\n",
    "if no_of_duplicated_values == 1:\n",
    "    print(f\"{emojize(\":partying_face:\")} Congratulations!!! You have a pair of {df2.iloc[0, 0]}'s.\")\n",
    "\n",
    "# Check for 2 pairs or a triple.\n",
    "elif no_of_duplicated_values == 2:\n",
    "    # Check for a triple\n",
    "    if len(df2) == 2:\n",
    "        print(f\"{emojize(\":party_popper:\")} Congratulations!!! You have a triple of {df2.iloc[0, 0]}'s.\")\n",
    "    # Check for 2 pairs\n",
    "    else:\n",
    "        print(f\"{emojize(\":party_popper:\")} WOW! Congratulations!! You have a two pairs {df2.iloc[0, 0]} and {df2.iloc[0, 2]}.\")\n",
    "else:\n",
    "    print(f'{emojize(\":disappointed_face:\")} Unlucky, no pairs or triples. Better luck next time.')"
   ]
  },
  {
   "cell_type": "markdown",
   "metadata": {},
   "source": [
    "### Checking for the Matching Suit."
   ]
  },
  {
   "cell_type": "code",
   "execution_count": 303,
   "metadata": {},
   "outputs": [],
   "source": [
    "# Check if all cards have the same suit.\n",
    "if df['suit'].duplicated().sum() == 4:\n",
    "    print(f'{emojize(\":fireworks:\")} All cards have the same suit. Congratulations! {emojize(\":fireworks:\")}')"
   ]
  },
  {
   "cell_type": "markdown",
   "metadata": {},
   "source": [
    "### Checking for a Straight."
   ]
  },
  {
   "cell_type": "code",
   "execution_count": 304,
   "metadata": {},
   "outputs": [],
   "source": [
    "# For straight, need an ordered list of card values.\n",
    "card_value_order = ['ACE', '2', '3', '4', '5', '6', '7', '8', '9', '10', 'JACK', 'QUEEN', 'KING']"
   ]
  },
  {
   "cell_type": "code",
   "execution_count": 305,
   "metadata": {},
   "outputs": [
    {
     "data": {
      "text/html": [
       "<div>\n",
       "<style scoped>\n",
       "    .dataframe tbody tr th:only-of-type {\n",
       "        vertical-align: middle;\n",
       "    }\n",
       "\n",
       "    .dataframe tbody tr th {\n",
       "        vertical-align: top;\n",
       "    }\n",
       "\n",
       "    .dataframe thead th {\n",
       "        text-align: right;\n",
       "    }\n",
       "</style>\n",
       "<table border=\"1\" class=\"dataframe\">\n",
       "  <thead>\n",
       "    <tr style=\"text-align: right;\">\n",
       "      <th></th>\n",
       "      <th>value</th>\n",
       "      <th>suit</th>\n",
       "    </tr>\n",
       "  </thead>\n",
       "  <tbody>\n",
       "    <tr>\n",
       "      <th>0</th>\n",
       "      <td>ACE</td>\n",
       "      <td>HEARTS</td>\n",
       "    </tr>\n",
       "    <tr>\n",
       "      <th>3</th>\n",
       "      <td>ACE</td>\n",
       "      <td>CLUBS</td>\n",
       "    </tr>\n",
       "    <tr>\n",
       "      <th>4</th>\n",
       "      <td>6</td>\n",
       "      <td>DIAMONDS</td>\n",
       "    </tr>\n",
       "    <tr>\n",
       "      <th>1</th>\n",
       "      <td>QUEEN</td>\n",
       "      <td>HEARTS</td>\n",
       "    </tr>\n",
       "    <tr>\n",
       "      <th>2</th>\n",
       "      <td>KING</td>\n",
       "      <td>DIAMONDS</td>\n",
       "    </tr>\n",
       "  </tbody>\n",
       "</table>\n",
       "</div>"
      ],
      "text/plain": [
       "   value      suit\n",
       "0    ACE    HEARTS\n",
       "3    ACE     CLUBS\n",
       "4      6  DIAMONDS\n",
       "1  QUEEN    HEARTS\n",
       "2   KING  DIAMONDS"
      ]
     },
     "execution_count": 305,
     "metadata": {},
     "output_type": "execute_result"
    }
   ],
   "source": [
    "# Sort value column by the order in card_value_order.\n",
    "# https://stackoverflow.com/questions/52784410/sort-column-in-pandas-dataframe-by-specific-order\n",
    "df.value = pd.Categorical(df.value, categories= card_value_order)\n",
    "df = df.sort_values(by ='value')\n",
    "df"
   ]
  },
  {
   "cell_type": "code",
   "execution_count": 306,
   "metadata": {},
   "outputs": [
    {
     "data": {
      "text/plain": [
       "['ACE', 'ACE', '6', 'QUEEN', 'KING']"
      ]
     },
     "execution_count": 306,
     "metadata": {},
     "output_type": "execute_result"
    }
   ],
   "source": [
    "# Create a list of the card values from the dataframe.\n",
    "values = df.iloc[:5, 0].tolist()\n",
    "values"
   ]
  },
  {
   "cell_type": "code",
   "execution_count": 307,
   "metadata": {},
   "outputs": [
    {
     "name": "stdout",
     "output_type": "stream",
     "text": [
      "😞 No straight found.\n"
     ]
    }
   ],
   "source": [
    "# Check for the presence of the values list in card_values. \n",
    "# https://stackoverflow.com/questions/3313590/check-for-presence-of-a-sliced-list-in-python\n",
    "\n",
    "n = len(values)\n",
    "\n",
    "if any((values == card_value_order[i:i+n]) for i in range(n+1)):\n",
    "    print(\"You have a straight.\")\n",
    "else:\n",
    "    print(f\"{emojize(\":disappointed_face:\")} No straight found.\")"
   ]
  },
  {
   "cell_type": "markdown",
   "metadata": {},
   "source": [
    "## References\n",
    "\n",
    "[Geeksforgeeks.org, response.json() - Python requests](https://www.geeksforgeeks.org/response-json-python-requests/)\n",
    "\n",
    "[W3 schools.com, Python Requests Module](https://www.w3schools.com/python/module_requests.asp)\n",
    "\n",
    "[Realpython.com, Python's Requests Library (Guide)](https://realpython.com/python-requests/)\n",
    "\n",
    "[Stackoverflow.com, How to access a dictionary key value present inside a list](https://stackoverflow.com/questions/6521892/how-to-access-a-dictionary-key-value-present-inside-a-list)\n",
    "\n",
    "[Geeksforgeeks.org, Accessing nested dictionaries in a list](https://www.geeksforgeeks.org/accessing-value-inside-python-nested-dictionaries/) \n",
    "\n",
    "[Datacamp.com, importing json data and working with APIs](https://campus.datacamp.com/courses/streamlined-data-ingestion-with-pandas/importing-json-data-and-working-with-apis?ex=4)\n",
    "\n",
    "[Get a list from a dataframe](https://saturncloud.io/blog/how-to-get-a-list-from-a-pandas-dataframe-column/#:~:text=Best%20Practices-,Use%20the%20tolist()%20Method,of%20data%20into%20a%20list)"
   ]
  }
 ],
 "metadata": {
  "kernelspec": {
   "display_name": "base",
   "language": "python",
   "name": "python3"
  },
  "language_info": {
   "codemirror_mode": {
    "name": "ipython",
    "version": 3
   },
   "file_extension": ".py",
   "mimetype": "text/x-python",
   "name": "python",
   "nbconvert_exporter": "python",
   "pygments_lexer": "ipython3",
   "version": "3.12.7"
  }
 },
 "nbformat": 4,
 "nbformat_minor": 2
}
