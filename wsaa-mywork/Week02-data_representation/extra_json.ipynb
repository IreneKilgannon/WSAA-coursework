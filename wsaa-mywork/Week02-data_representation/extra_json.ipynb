{
 "cells": [
  {
   "cell_type": "markdown",
   "metadata": {},
   "source": [
    "# JSON\n",
    "\n",
    "Data is organized into collections of objects.\n",
    "\n",
    "JSON data isn't tabular.\n",
    "\n",
    "APIs most common source of JSON data."
   ]
  },
  {
   "cell_type": "code",
   "execution_count": 4,
   "metadata": {},
   "outputs": [],
   "source": [
    "import json\n",
    "import requests"
   ]
  },
  {
   "cell_type": "markdown",
   "metadata": {},
   "source": [
    "## What is JSON used for?\n",
    "\n",
    "JSON is used for data interchange between data structures. JSON supports nested objects and arrays, which makes it easy to represent and exchange structured data between different systems.\n",
    "Typically formatted in key-value pairs, with the key as a string. The values represented in various types such as string, number, boolean, array or object. \n",
    "\n",
    "## JSON module in Python\n",
    "\n",
    "JSON serialization and deserialization: processes of converting JSON data to and from other formats, such as Python objects or strings, to transmit or store the data. \n",
    "\n",
    "Serialization converting into a JSON string. json.dumps() or json.dump()\n",
    "\n",
    "json.dumps() parses a Python dictionary into a JSON string. Has the following parameters\n",
    "- indent that makes it easier to read the result and parameter \n",
    "- separators (\"separate each object\", \"separate each key value\") e.g (\", \", \": \")\n",
    "- sort_keys boolean\n",
    "\n",
    "json.dump() serialize a Python object and writes it to a JSON file. Two arguments, the Python object and the file object. \n",
    "\n",
    "Deserialization parsing a JSON string into a Python object. json.loads() and json.load()\n",
    "\n",
    "json.loads(). Takes a single JSON string and returns a Python object. \n",
    "\n",
    "json.load(). Reads a JSON file and parses the contents into a Python object. \n"
   ]
  },
  {
   "cell_type": "code",
   "execution_count": 2,
   "metadata": {},
   "outputs": [
    {
     "name": "stdout",
     "output_type": "stream",
     "text": [
      "30\n"
     ]
    }
   ],
   "source": [
    "# some JSON:\n",
    "x =  '{ \"name\":\"John\", \"age\":30, \"city\":\"New York\"}'\n",
    "\n",
    "# parse x:\n",
    "y = json.loads(x)\n",
    "\n",
    "# the result is a Python dictionary:\n",
    "print(y[\"age\"])"
   ]
  },
  {
   "cell_type": "code",
   "execution_count": 3,
   "metadata": {},
   "outputs": [],
   "source": [
    "# serialize Python object and write to JSON file\n",
    "python_obj = {'name': 'John', 'age': 30}\n",
    "with open('data.json', 'w') as file:\n",
    "    json.dump(python_obj, file)"
   ]
  },
  {
   "cell_type": "code",
   "execution_count": null,
   "metadata": {},
   "outputs": [],
   "source": [
    "import json\n",
    "\n",
    "# read JSON file and parse contents\n",
    "with open('data.json', 'r') as file:\n",
    "    python_obj = json.load(file)\n",
    "print(python_obj)  \n",
    "\n",
    "# output: {'name': 'John', 'age': 30}"
   ]
  },
  {
   "cell_type": "markdown",
   "metadata": {},
   "source": [
    "## JSON data in APIs\n",
    "\n",
    "requests library to retrieve and get data from a URL. \n",
    "params - dict of parametes and values to cusomize API request\n",
    "headers = user authentication key passes in the header\n",
    "\n",
    "result reponse object. juse responsd.jsonO to get \n",
    "\n"
   ]
  },
  {
   "cell_type": "code",
   "execution_count": null,
   "metadata": {},
   "outputs": [],
   "source": [
    "\n",
    "url = \"https://jsonplaceholder.typicode.com/posts\"\n",
    "\n",
    "# Make the request from the URL\n",
    "# Stores the response in the response variable.\n",
    "response = requests.get(url)\n",
    "\n",
    "\n",
    "if response.status_code == 200:\n",
    "    data = json.loads(response.text)\n",
    "    print(data)\n",
    "else:\n",
    "    print(f\"Error retrieving data, status code: {response.status_code}\")"
   ]
  },
  {
   "cell_type": "code",
   "execution_count": null,
   "metadata": {},
   "outputs": [],
   "source": []
  },
  {
   "cell_type": "markdown",
   "metadata": {},
   "source": [
    "nested json\n",
    "\n",
    "nested JSON = appears a dictionary in the dataframe\n",
    "oandas has a function to flatten nested json. it is in a submodule that doesnt' normally load with importing pandas\n",
    "\n",
    "pandas.io..json bumodule has tools for reading and writing JSON. needs uts iwk\n",
    "\n",
    "\n",
    "\n"
   ]
  },
  {
   "cell_type": "code",
   "execution_count": null,
   "metadata": {},
   "outputs": [
    {
     "ename": "ModuleNotFoundError",
     "evalue": "No module named 'pandas.json_normalize'",
     "output_type": "error",
     "traceback": [
      "\u001b[1;31m---------------------------------------------------------------------------\u001b[0m",
      "\u001b[1;31mModuleNotFoundError\u001b[0m                       Traceback (most recent call last)",
      "Cell \u001b[1;32mIn[9], line 1\u001b[0m\n\u001b[1;32m----> 1\u001b[0m \u001b[38;5;28;01mimport\u001b[39;00m \u001b[38;5;21;01mpandas\u001b[39;00m\u001b[38;5;21;01m.\u001b[39;00m\u001b[38;5;21;01mjson_normalize\u001b[39;00m\n",
      "\u001b[1;31mModuleNotFoundError\u001b[0m: No module named 'pandas.json_normalize'"
     ]
    }
   ],
   "source": []
  },
  {
   "cell_type": "code",
   "execution_count": null,
   "metadata": {},
   "outputs": [],
   "source": [
    "import pandas as pd\n",
    "heasers = "
   ]
  },
  {
   "cell_type": "markdown",
   "metadata": {},
   "source": [
    "## References\n",
    "\n",
    "https://www.datacamp.com/tutorial/json-data-python"
   ]
  }
 ],
 "metadata": {
  "kernelspec": {
   "display_name": "base",
   "language": "python",
   "name": "python3"
  },
  "language_info": {
   "codemirror_mode": {
    "name": "ipython",
    "version": 3
   },
   "file_extension": ".py",
   "mimetype": "text/x-python",
   "name": "python",
   "nbconvert_exporter": "python",
   "pygments_lexer": "ipython3",
   "version": "3.12.7"
  }
 },
 "nbformat": 4,
 "nbformat_minor": 2
}
